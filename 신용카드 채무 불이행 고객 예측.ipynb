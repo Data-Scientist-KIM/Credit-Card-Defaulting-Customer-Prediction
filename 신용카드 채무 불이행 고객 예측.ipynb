{
 "cells": [
  {
   "cell_type": "markdown",
   "id": "ced2e6fe",
   "metadata": {},
   "source": [
    "# 신용카드 채무 불이행 고객 예측(credit card analysis)"
   ]
  },
  {
   "cell_type": "markdown",
   "id": "fd1df983",
   "metadata": {},
   "source": [
    "## 문제 상황  \n",
    "\n",
    "카드사 A는 최근 점점 늘어가는 채무 불이행 고객 때문에 골치를 썩고 있다. 네이버페이, 카카오페이 등 간편결제 회사와 같은 경쟁사들이 등장하고  \n",
    "있는 어려운 상황에서 채무 불이행 고객으로 인한 손실이 늘어나고 있는 상황이다. 이에 신용카드 채무 불이행이 예상되는 고객들을 블랙리스트로  \n",
    "관리하고, 한도를 줄여서 최대한의 손실을 막아보고자 한다."
   ]
  },
  {
   "cell_type": "markdown",
   "id": "b88c0cad",
   "metadata": {},
   "source": [
    "## 문제 해결 프로세스  \n",
    "\n",
    "1. 문제정의\n",
    "\n",
    "- 신용카드 대금 채무 불이행으로 인한 손실\n",
    "\n",
    "2. 기대효과\n",
    "\n",
    "- 채무 불이행으로 인한 손실 감소  \n",
    "\n",
    "3. 해결방안\n",
    "\n",
    "- 채무 불이행 고객 예측 및 블랙리스트 관리(신용한도 조정)  \n",
    "\n",
    "4. 성과측정\n",
    "\n",
    "- 블랙리스트 관리 후 채무 불이행 손실 감소률(%)"
   ]
  },
  {
   "cell_type": "code",
   "execution_count": 1,
   "id": "013d59fd",
   "metadata": {},
   "outputs": [
    {
     "data": {
      "text/html": [
       "<div>\n",
       "<style scoped>\n",
       "    .dataframe tbody tr th:only-of-type {\n",
       "        vertical-align: middle;\n",
       "    }\n",
       "\n",
       "    .dataframe tbody tr th {\n",
       "        vertical-align: top;\n",
       "    }\n",
       "\n",
       "    .dataframe thead th {\n",
       "        text-align: right;\n",
       "    }\n",
       "</style>\n",
       "<table border=\"1\" class=\"dataframe\">\n",
       "  <thead>\n",
       "    <tr style=\"text-align: right;\">\n",
       "      <th></th>\n",
       "      <th>ID</th>\n",
       "      <th>LIMIT_BAL</th>\n",
       "      <th>SEX</th>\n",
       "      <th>EDUCATION</th>\n",
       "      <th>MARRIAGE</th>\n",
       "      <th>AGE</th>\n",
       "      <th>PAY_0</th>\n",
       "      <th>PAY_2</th>\n",
       "      <th>PAY_3</th>\n",
       "      <th>PAY_4</th>\n",
       "      <th>...</th>\n",
       "      <th>BILL_AMT4</th>\n",
       "      <th>BILL_AMT5</th>\n",
       "      <th>BILL_AMT6</th>\n",
       "      <th>PAY_AMT1</th>\n",
       "      <th>PAY_AMT2</th>\n",
       "      <th>PAY_AMT3</th>\n",
       "      <th>PAY_AMT4</th>\n",
       "      <th>PAY_AMT5</th>\n",
       "      <th>PAY_AMT6</th>\n",
       "      <th>default payment next month</th>\n",
       "    </tr>\n",
       "  </thead>\n",
       "  <tbody>\n",
       "    <tr>\n",
       "      <th>0</th>\n",
       "      <td>1</td>\n",
       "      <td>20000</td>\n",
       "      <td>2</td>\n",
       "      <td>2</td>\n",
       "      <td>1</td>\n",
       "      <td>24</td>\n",
       "      <td>2</td>\n",
       "      <td>2</td>\n",
       "      <td>-1</td>\n",
       "      <td>-1</td>\n",
       "      <td>...</td>\n",
       "      <td>0</td>\n",
       "      <td>0</td>\n",
       "      <td>0</td>\n",
       "      <td>0</td>\n",
       "      <td>689</td>\n",
       "      <td>0</td>\n",
       "      <td>0</td>\n",
       "      <td>0</td>\n",
       "      <td>0</td>\n",
       "      <td>1</td>\n",
       "    </tr>\n",
       "    <tr>\n",
       "      <th>1</th>\n",
       "      <td>2</td>\n",
       "      <td>120000</td>\n",
       "      <td>2</td>\n",
       "      <td>2</td>\n",
       "      <td>2</td>\n",
       "      <td>26</td>\n",
       "      <td>-1</td>\n",
       "      <td>2</td>\n",
       "      <td>0</td>\n",
       "      <td>0</td>\n",
       "      <td>...</td>\n",
       "      <td>3272</td>\n",
       "      <td>3455</td>\n",
       "      <td>3261</td>\n",
       "      <td>0</td>\n",
       "      <td>1000</td>\n",
       "      <td>1000</td>\n",
       "      <td>1000</td>\n",
       "      <td>0</td>\n",
       "      <td>2000</td>\n",
       "      <td>1</td>\n",
       "    </tr>\n",
       "    <tr>\n",
       "      <th>2</th>\n",
       "      <td>3</td>\n",
       "      <td>90000</td>\n",
       "      <td>2</td>\n",
       "      <td>2</td>\n",
       "      <td>2</td>\n",
       "      <td>34</td>\n",
       "      <td>0</td>\n",
       "      <td>0</td>\n",
       "      <td>0</td>\n",
       "      <td>0</td>\n",
       "      <td>...</td>\n",
       "      <td>14331</td>\n",
       "      <td>14948</td>\n",
       "      <td>15549</td>\n",
       "      <td>1518</td>\n",
       "      <td>1500</td>\n",
       "      <td>1000</td>\n",
       "      <td>1000</td>\n",
       "      <td>1000</td>\n",
       "      <td>5000</td>\n",
       "      <td>0</td>\n",
       "    </tr>\n",
       "    <tr>\n",
       "      <th>3</th>\n",
       "      <td>4</td>\n",
       "      <td>50000</td>\n",
       "      <td>2</td>\n",
       "      <td>2</td>\n",
       "      <td>1</td>\n",
       "      <td>37</td>\n",
       "      <td>0</td>\n",
       "      <td>0</td>\n",
       "      <td>0</td>\n",
       "      <td>0</td>\n",
       "      <td>...</td>\n",
       "      <td>28314</td>\n",
       "      <td>28959</td>\n",
       "      <td>29547</td>\n",
       "      <td>2000</td>\n",
       "      <td>2019</td>\n",
       "      <td>1200</td>\n",
       "      <td>1100</td>\n",
       "      <td>1069</td>\n",
       "      <td>1000</td>\n",
       "      <td>0</td>\n",
       "    </tr>\n",
       "    <tr>\n",
       "      <th>4</th>\n",
       "      <td>5</td>\n",
       "      <td>50000</td>\n",
       "      <td>1</td>\n",
       "      <td>2</td>\n",
       "      <td>1</td>\n",
       "      <td>57</td>\n",
       "      <td>-1</td>\n",
       "      <td>0</td>\n",
       "      <td>-1</td>\n",
       "      <td>0</td>\n",
       "      <td>...</td>\n",
       "      <td>20940</td>\n",
       "      <td>19146</td>\n",
       "      <td>19131</td>\n",
       "      <td>2000</td>\n",
       "      <td>36681</td>\n",
       "      <td>10000</td>\n",
       "      <td>9000</td>\n",
       "      <td>689</td>\n",
       "      <td>679</td>\n",
       "      <td>0</td>\n",
       "    </tr>\n",
       "  </tbody>\n",
       "</table>\n",
       "<p>5 rows × 25 columns</p>\n",
       "</div>"
      ],
      "text/plain": [
       "   ID  LIMIT_BAL  SEX  EDUCATION  MARRIAGE  AGE  PAY_0  PAY_2  PAY_3  PAY_4  \\\n",
       "0   1      20000    2          2         1   24      2      2     -1     -1   \n",
       "1   2     120000    2          2         2   26     -1      2      0      0   \n",
       "2   3      90000    2          2         2   34      0      0      0      0   \n",
       "3   4      50000    2          2         1   37      0      0      0      0   \n",
       "4   5      50000    1          2         1   57     -1      0     -1      0   \n",
       "\n",
       "   ...  BILL_AMT4  BILL_AMT5  BILL_AMT6  PAY_AMT1  PAY_AMT2  PAY_AMT3  \\\n",
       "0  ...          0          0          0         0       689         0   \n",
       "1  ...       3272       3455       3261         0      1000      1000   \n",
       "2  ...      14331      14948      15549      1518      1500      1000   \n",
       "3  ...      28314      28959      29547      2000      2019      1200   \n",
       "4  ...      20940      19146      19131      2000     36681     10000   \n",
       "\n",
       "   PAY_AMT4  PAY_AMT5  PAY_AMT6  default payment next month  \n",
       "0         0         0         0                           1  \n",
       "1      1000         0      2000                           1  \n",
       "2      1000      1000      5000                           0  \n",
       "3      1100      1069      1000                           0  \n",
       "4      9000       689       679                           0  \n",
       "\n",
       "[5 rows x 25 columns]"
      ]
     },
     "execution_count": 1,
     "metadata": {},
     "output_type": "execute_result"
    }
   ],
   "source": [
    "import pandas as pd\n",
    "import warnings\n",
    "warnings.filterwarnings('ignore')\n",
    "\n",
    "df = pd.read_excel('C:/Users/USER/Desktop/Practice Project/신용카드 채무 불이행 고객 예측/신용카드 채무 불이행 고객 예측.xlsx')\n",
    "df.head()"
   ]
  },
  {
   "cell_type": "code",
   "execution_count": 2,
   "id": "64d226e2",
   "metadata": {},
   "outputs": [
    {
     "name": "stdout",
     "output_type": "stream",
     "text": [
      "<class 'pandas.core.frame.DataFrame'>\n",
      "RangeIndex: 30000 entries, 0 to 29999\n",
      "Data columns (total 25 columns):\n",
      " #   Column                      Non-Null Count  Dtype\n",
      "---  ------                      --------------  -----\n",
      " 0   ID                          30000 non-null  int64\n",
      " 1   LIMIT_BAL                   30000 non-null  int64\n",
      " 2   SEX                         30000 non-null  int64\n",
      " 3   EDUCATION                   30000 non-null  int64\n",
      " 4   MARRIAGE                    30000 non-null  int64\n",
      " 5   AGE                         30000 non-null  int64\n",
      " 6   PAY_0                       30000 non-null  int64\n",
      " 7   PAY_2                       30000 non-null  int64\n",
      " 8   PAY_3                       30000 non-null  int64\n",
      " 9   PAY_4                       30000 non-null  int64\n",
      " 10  PAY_5                       30000 non-null  int64\n",
      " 11  PAY_6                       30000 non-null  int64\n",
      " 12  BILL_AMT1                   30000 non-null  int64\n",
      " 13  BILL_AMT2                   30000 non-null  int64\n",
      " 14  BILL_AMT3                   30000 non-null  int64\n",
      " 15  BILL_AMT4                   30000 non-null  int64\n",
      " 16  BILL_AMT5                   30000 non-null  int64\n",
      " 17  BILL_AMT6                   30000 non-null  int64\n",
      " 18  PAY_AMT1                    30000 non-null  int64\n",
      " 19  PAY_AMT2                    30000 non-null  int64\n",
      " 20  PAY_AMT3                    30000 non-null  int64\n",
      " 21  PAY_AMT4                    30000 non-null  int64\n",
      " 22  PAY_AMT5                    30000 non-null  int64\n",
      " 23  PAY_AMT6                    30000 non-null  int64\n",
      " 24  default payment next month  30000 non-null  int64\n",
      "dtypes: int64(25)\n",
      "memory usage: 5.7 MB\n"
     ]
    }
   ],
   "source": [
    "df.info()"
   ]
  },
  {
   "cell_type": "code",
   "execution_count": 3,
   "id": "9df1c031",
   "metadata": {},
   "outputs": [
    {
     "data": {
      "text/plain": [
       "ID                            0\n",
       "LIMIT_BAL                     0\n",
       "SEX                           0\n",
       "EDUCATION                     0\n",
       "MARRIAGE                      0\n",
       "AGE                           0\n",
       "PAY_0                         0\n",
       "PAY_2                         0\n",
       "PAY_3                         0\n",
       "PAY_4                         0\n",
       "PAY_5                         0\n",
       "PAY_6                         0\n",
       "BILL_AMT1                     0\n",
       "BILL_AMT2                     0\n",
       "BILL_AMT3                     0\n",
       "BILL_AMT4                     0\n",
       "BILL_AMT5                     0\n",
       "BILL_AMT6                     0\n",
       "PAY_AMT1                      0\n",
       "PAY_AMT2                      0\n",
       "PAY_AMT3                      0\n",
       "PAY_AMT4                      0\n",
       "PAY_AMT5                      0\n",
       "PAY_AMT6                      0\n",
       "default payment next month    0\n",
       "dtype: int64"
      ]
     },
     "execution_count": 3,
     "metadata": {},
     "output_type": "execute_result"
    }
   ],
   "source": [
    "df.isnull().sum()"
   ]
  },
  {
   "cell_type": "markdown",
   "id": "3f500edf",
   "metadata": {},
   "source": [
    "#### 변수 해석 3가지  \n",
    "\n",
    "1. 결측치 존재 여부\n",
    "\n",
    "- 전체 데이터에서 결측치가 존재하지 않는다.\n",
    "\n",
    "- 만약, 결측치가 존재했다면 전체 데이터의 약 5%정도 미만의 개수는 제거해도 좋다.\n",
    "\n",
    "- 결측치를 대체하는 경우, object형태는 최빈값으로 대체하고, int64 or float64형태는 평균으로 대체하거나 KNN을 사용할 수 있다.  \n",
    "\n",
    "2. 데이터 타입 설명\n",
    "\n",
    "- int64형태 25개로 총 25개의 변수가 존재한다.  \n",
    "\n",
    "3. 컬럼 설명\n",
    "\n",
    "- ID : 고객 아이디\n",
    "- LIMIT_BAL : 신용한도\n",
    "- SEX : 성별(1-남성, 2-여성)\n",
    "- EDUCATION : 교육수준(1-대학원, 2-대학교, 3-고등학교, 4-기타, 5-모름, 6-모름)\n",
    "- MARRIAGE : 결혼(1-기혼, 2-독신, 3-기타)\n",
    "- AGE : 나이\n",
    "- PAY_0 : 05년9월 상환상태(-2-무소비, -1-정액 결제, 0-리볼빙크레딧, 1-한달 지연, ..., 9-9개월 지불지연)\n",
    "- PAY_2 : 05년8월 상환상태\n",
    "- PAY_3 : 05년7월 상환상태\n",
    "- PAY_4 : 05년6월 상환상태\n",
    "- PAY_5 : 05년5월 상환상태\n",
    "- PAY_6 : 05년4월 상환상태\n",
    "- BILL_AMT1 : 05년9월 청구서 금액\n",
    "- BILL_AMT2 : 05년8월 청구서 금액\n",
    "- BILL_AMT3 : 05년7월 청구서 금액\n",
    "- BILL_AMT4 : 05년6월 청구서 금액\n",
    "- BILL_AMT5 : 05년5월 청구서 금액\n",
    "- BILL_AMT6 : 05년4월 청구서 금액\n",
    "- PAY_AMT1 : 05년9월 지불금액\n",
    "- PAY_AMT2 : 05년8월 지불금액\n",
    "- PAY_AMT3 : 05년7월 지불금액\n",
    "- PAY_AMT4 : 05년6월 지불금액\n",
    "- PAY_AMT5 : 05년5월 지불금액\n",
    "- PAY_AMT6 : 05년4월 지불금액\n",
    "- default payment next month : 채무 불이행 여부"
   ]
  },
  {
   "cell_type": "code",
   "execution_count": 7,
   "id": "ae7be6ee",
   "metadata": {},
   "outputs": [
    {
     "data": {
      "text/html": [
       "<div>\n",
       "<style scoped>\n",
       "    .dataframe tbody tr th:only-of-type {\n",
       "        vertical-align: middle;\n",
       "    }\n",
       "\n",
       "    .dataframe tbody tr th {\n",
       "        vertical-align: top;\n",
       "    }\n",
       "\n",
       "    .dataframe thead th {\n",
       "        text-align: right;\n",
       "    }\n",
       "</style>\n",
       "<table border=\"1\" class=\"dataframe\">\n",
       "  <thead>\n",
       "    <tr style=\"text-align: right;\">\n",
       "      <th></th>\n",
       "      <th>ID</th>\n",
       "      <th>LIMIT_BAL</th>\n",
       "      <th>SEX</th>\n",
       "      <th>EDUCATION</th>\n",
       "      <th>MARRIAGE</th>\n",
       "      <th>AGE</th>\n",
       "      <th>PAY_0</th>\n",
       "      <th>PAY_2</th>\n",
       "      <th>PAY_3</th>\n",
       "      <th>PAY_4</th>\n",
       "      <th>...</th>\n",
       "      <th>BILL_AMT4</th>\n",
       "      <th>BILL_AMT5</th>\n",
       "      <th>BILL_AMT6</th>\n",
       "      <th>PAY_AMT1</th>\n",
       "      <th>PAY_AMT2</th>\n",
       "      <th>PAY_AMT3</th>\n",
       "      <th>PAY_AMT4</th>\n",
       "      <th>PAY_AMT5</th>\n",
       "      <th>PAY_AMT6</th>\n",
       "      <th>default payment next month</th>\n",
       "    </tr>\n",
       "  </thead>\n",
       "  <tbody>\n",
       "    <tr>\n",
       "      <th>count</th>\n",
       "      <td>30000.000000</td>\n",
       "      <td>30000.000000</td>\n",
       "      <td>30000.000000</td>\n",
       "      <td>30000.000000</td>\n",
       "      <td>30000.000000</td>\n",
       "      <td>30000.000000</td>\n",
       "      <td>30000.000000</td>\n",
       "      <td>30000.000000</td>\n",
       "      <td>30000.000000</td>\n",
       "      <td>30000.000000</td>\n",
       "      <td>...</td>\n",
       "      <td>30000.000000</td>\n",
       "      <td>30000.000000</td>\n",
       "      <td>30000.000000</td>\n",
       "      <td>30000.000000</td>\n",
       "      <td>3.000000e+04</td>\n",
       "      <td>30000.00000</td>\n",
       "      <td>30000.000000</td>\n",
       "      <td>30000.000000</td>\n",
       "      <td>30000.000000</td>\n",
       "      <td>30000.000000</td>\n",
       "    </tr>\n",
       "    <tr>\n",
       "      <th>mean</th>\n",
       "      <td>15000.500000</td>\n",
       "      <td>167484.322667</td>\n",
       "      <td>1.603733</td>\n",
       "      <td>1.853133</td>\n",
       "      <td>1.551867</td>\n",
       "      <td>35.485500</td>\n",
       "      <td>-0.016700</td>\n",
       "      <td>-0.133767</td>\n",
       "      <td>-0.166200</td>\n",
       "      <td>-0.220667</td>\n",
       "      <td>...</td>\n",
       "      <td>43262.948967</td>\n",
       "      <td>40311.400967</td>\n",
       "      <td>38871.760400</td>\n",
       "      <td>5663.580500</td>\n",
       "      <td>5.921163e+03</td>\n",
       "      <td>5225.68150</td>\n",
       "      <td>4826.076867</td>\n",
       "      <td>4799.387633</td>\n",
       "      <td>5215.502567</td>\n",
       "      <td>0.221200</td>\n",
       "    </tr>\n",
       "    <tr>\n",
       "      <th>std</th>\n",
       "      <td>8660.398374</td>\n",
       "      <td>129747.661567</td>\n",
       "      <td>0.489129</td>\n",
       "      <td>0.790349</td>\n",
       "      <td>0.521970</td>\n",
       "      <td>9.217904</td>\n",
       "      <td>1.123802</td>\n",
       "      <td>1.197186</td>\n",
       "      <td>1.196868</td>\n",
       "      <td>1.169139</td>\n",
       "      <td>...</td>\n",
       "      <td>64332.856134</td>\n",
       "      <td>60797.155770</td>\n",
       "      <td>59554.107537</td>\n",
       "      <td>16563.280354</td>\n",
       "      <td>2.304087e+04</td>\n",
       "      <td>17606.96147</td>\n",
       "      <td>15666.159744</td>\n",
       "      <td>15278.305679</td>\n",
       "      <td>17777.465775</td>\n",
       "      <td>0.415062</td>\n",
       "    </tr>\n",
       "    <tr>\n",
       "      <th>min</th>\n",
       "      <td>1.000000</td>\n",
       "      <td>10000.000000</td>\n",
       "      <td>1.000000</td>\n",
       "      <td>0.000000</td>\n",
       "      <td>0.000000</td>\n",
       "      <td>21.000000</td>\n",
       "      <td>-2.000000</td>\n",
       "      <td>-2.000000</td>\n",
       "      <td>-2.000000</td>\n",
       "      <td>-2.000000</td>\n",
       "      <td>...</td>\n",
       "      <td>-170000.000000</td>\n",
       "      <td>-81334.000000</td>\n",
       "      <td>-339603.000000</td>\n",
       "      <td>0.000000</td>\n",
       "      <td>0.000000e+00</td>\n",
       "      <td>0.00000</td>\n",
       "      <td>0.000000</td>\n",
       "      <td>0.000000</td>\n",
       "      <td>0.000000</td>\n",
       "      <td>0.000000</td>\n",
       "    </tr>\n",
       "    <tr>\n",
       "      <th>25%</th>\n",
       "      <td>7500.750000</td>\n",
       "      <td>50000.000000</td>\n",
       "      <td>1.000000</td>\n",
       "      <td>1.000000</td>\n",
       "      <td>1.000000</td>\n",
       "      <td>28.000000</td>\n",
       "      <td>-1.000000</td>\n",
       "      <td>-1.000000</td>\n",
       "      <td>-1.000000</td>\n",
       "      <td>-1.000000</td>\n",
       "      <td>...</td>\n",
       "      <td>2326.750000</td>\n",
       "      <td>1763.000000</td>\n",
       "      <td>1256.000000</td>\n",
       "      <td>1000.000000</td>\n",
       "      <td>8.330000e+02</td>\n",
       "      <td>390.00000</td>\n",
       "      <td>296.000000</td>\n",
       "      <td>252.500000</td>\n",
       "      <td>117.750000</td>\n",
       "      <td>0.000000</td>\n",
       "    </tr>\n",
       "    <tr>\n",
       "      <th>50%</th>\n",
       "      <td>15000.500000</td>\n",
       "      <td>140000.000000</td>\n",
       "      <td>2.000000</td>\n",
       "      <td>2.000000</td>\n",
       "      <td>2.000000</td>\n",
       "      <td>34.000000</td>\n",
       "      <td>0.000000</td>\n",
       "      <td>0.000000</td>\n",
       "      <td>0.000000</td>\n",
       "      <td>0.000000</td>\n",
       "      <td>...</td>\n",
       "      <td>19052.000000</td>\n",
       "      <td>18104.500000</td>\n",
       "      <td>17071.000000</td>\n",
       "      <td>2100.000000</td>\n",
       "      <td>2.009000e+03</td>\n",
       "      <td>1800.00000</td>\n",
       "      <td>1500.000000</td>\n",
       "      <td>1500.000000</td>\n",
       "      <td>1500.000000</td>\n",
       "      <td>0.000000</td>\n",
       "    </tr>\n",
       "    <tr>\n",
       "      <th>75%</th>\n",
       "      <td>22500.250000</td>\n",
       "      <td>240000.000000</td>\n",
       "      <td>2.000000</td>\n",
       "      <td>2.000000</td>\n",
       "      <td>2.000000</td>\n",
       "      <td>41.000000</td>\n",
       "      <td>0.000000</td>\n",
       "      <td>0.000000</td>\n",
       "      <td>0.000000</td>\n",
       "      <td>0.000000</td>\n",
       "      <td>...</td>\n",
       "      <td>54506.000000</td>\n",
       "      <td>50190.500000</td>\n",
       "      <td>49198.250000</td>\n",
       "      <td>5006.000000</td>\n",
       "      <td>5.000000e+03</td>\n",
       "      <td>4505.00000</td>\n",
       "      <td>4013.250000</td>\n",
       "      <td>4031.500000</td>\n",
       "      <td>4000.000000</td>\n",
       "      <td>0.000000</td>\n",
       "    </tr>\n",
       "    <tr>\n",
       "      <th>max</th>\n",
       "      <td>30000.000000</td>\n",
       "      <td>1000000.000000</td>\n",
       "      <td>2.000000</td>\n",
       "      <td>6.000000</td>\n",
       "      <td>3.000000</td>\n",
       "      <td>79.000000</td>\n",
       "      <td>8.000000</td>\n",
       "      <td>8.000000</td>\n",
       "      <td>8.000000</td>\n",
       "      <td>8.000000</td>\n",
       "      <td>...</td>\n",
       "      <td>891586.000000</td>\n",
       "      <td>927171.000000</td>\n",
       "      <td>961664.000000</td>\n",
       "      <td>873552.000000</td>\n",
       "      <td>1.684259e+06</td>\n",
       "      <td>896040.00000</td>\n",
       "      <td>621000.000000</td>\n",
       "      <td>426529.000000</td>\n",
       "      <td>528666.000000</td>\n",
       "      <td>1.000000</td>\n",
       "    </tr>\n",
       "  </tbody>\n",
       "</table>\n",
       "<p>8 rows × 25 columns</p>\n",
       "</div>"
      ],
      "text/plain": [
       "                 ID       LIMIT_BAL           SEX     EDUCATION      MARRIAGE  \\\n",
       "count  30000.000000    30000.000000  30000.000000  30000.000000  30000.000000   \n",
       "mean   15000.500000   167484.322667      1.603733      1.853133      1.551867   \n",
       "std     8660.398374   129747.661567      0.489129      0.790349      0.521970   \n",
       "min        1.000000    10000.000000      1.000000      0.000000      0.000000   \n",
       "25%     7500.750000    50000.000000      1.000000      1.000000      1.000000   \n",
       "50%    15000.500000   140000.000000      2.000000      2.000000      2.000000   \n",
       "75%    22500.250000   240000.000000      2.000000      2.000000      2.000000   \n",
       "max    30000.000000  1000000.000000      2.000000      6.000000      3.000000   \n",
       "\n",
       "                AGE         PAY_0         PAY_2         PAY_3         PAY_4  \\\n",
       "count  30000.000000  30000.000000  30000.000000  30000.000000  30000.000000   \n",
       "mean      35.485500     -0.016700     -0.133767     -0.166200     -0.220667   \n",
       "std        9.217904      1.123802      1.197186      1.196868      1.169139   \n",
       "min       21.000000     -2.000000     -2.000000     -2.000000     -2.000000   \n",
       "25%       28.000000     -1.000000     -1.000000     -1.000000     -1.000000   \n",
       "50%       34.000000      0.000000      0.000000      0.000000      0.000000   \n",
       "75%       41.000000      0.000000      0.000000      0.000000      0.000000   \n",
       "max       79.000000      8.000000      8.000000      8.000000      8.000000   \n",
       "\n",
       "       ...      BILL_AMT4      BILL_AMT5      BILL_AMT6       PAY_AMT1  \\\n",
       "count  ...   30000.000000   30000.000000   30000.000000   30000.000000   \n",
       "mean   ...   43262.948967   40311.400967   38871.760400    5663.580500   \n",
       "std    ...   64332.856134   60797.155770   59554.107537   16563.280354   \n",
       "min    ... -170000.000000  -81334.000000 -339603.000000       0.000000   \n",
       "25%    ...    2326.750000    1763.000000    1256.000000    1000.000000   \n",
       "50%    ...   19052.000000   18104.500000   17071.000000    2100.000000   \n",
       "75%    ...   54506.000000   50190.500000   49198.250000    5006.000000   \n",
       "max    ...  891586.000000  927171.000000  961664.000000  873552.000000   \n",
       "\n",
       "           PAY_AMT2      PAY_AMT3       PAY_AMT4       PAY_AMT5  \\\n",
       "count  3.000000e+04   30000.00000   30000.000000   30000.000000   \n",
       "mean   5.921163e+03    5225.68150    4826.076867    4799.387633   \n",
       "std    2.304087e+04   17606.96147   15666.159744   15278.305679   \n",
       "min    0.000000e+00       0.00000       0.000000       0.000000   \n",
       "25%    8.330000e+02     390.00000     296.000000     252.500000   \n",
       "50%    2.009000e+03    1800.00000    1500.000000    1500.000000   \n",
       "75%    5.000000e+03    4505.00000    4013.250000    4031.500000   \n",
       "max    1.684259e+06  896040.00000  621000.000000  426529.000000   \n",
       "\n",
       "            PAY_AMT6  default payment next month  \n",
       "count   30000.000000                30000.000000  \n",
       "mean     5215.502567                    0.221200  \n",
       "std     17777.465775                    0.415062  \n",
       "min         0.000000                    0.000000  \n",
       "25%       117.750000                    0.000000  \n",
       "50%      1500.000000                    0.000000  \n",
       "75%      4000.000000                    0.000000  \n",
       "max    528666.000000                    1.000000  \n",
       "\n",
       "[8 rows x 25 columns]"
      ]
     },
     "execution_count": 7,
     "metadata": {},
     "output_type": "execute_result"
    }
   ],
   "source": [
    "df.describe()"
   ]
  },
  {
   "cell_type": "markdown",
   "id": "01abd1b2",
   "metadata": {},
   "source": [
    "우선 describe로 이상치를 판단하기 위해서는 mean, min, max 값을 확인하는 것이 좋다. mean과 min, mean과 max 값이 std에 비해 한참 차이가 난다면, 이상치가 있을 가능성이 높다. 이러한 이상치를 정확히 판단하기 위해서는 아래와 같이 boxplot으로 시각화하여 보는 것이 정확하다."
   ]
  },
  {
   "cell_type": "code",
   "execution_count": 3,
   "id": "f24c541b",
   "metadata": {},
   "outputs": [
    {
     "data": {
      "text/html": [
       "<div>\n",
       "<style scoped>\n",
       "    .dataframe tbody tr th:only-of-type {\n",
       "        vertical-align: middle;\n",
       "    }\n",
       "\n",
       "    .dataframe tbody tr th {\n",
       "        vertical-align: top;\n",
       "    }\n",
       "\n",
       "    .dataframe thead th {\n",
       "        text-align: right;\n",
       "    }\n",
       "</style>\n",
       "<table border=\"1\" class=\"dataframe\">\n",
       "  <thead>\n",
       "    <tr style=\"text-align: right;\">\n",
       "      <th></th>\n",
       "      <th>이상치 탐색 변수</th>\n",
       "      <th>이상치 탐색 값</th>\n",
       "    </tr>\n",
       "  </thead>\n",
       "  <tbody>\n",
       "    <tr>\n",
       "      <th>0</th>\n",
       "      <td>ID</td>\n",
       "      <td>1</td>\n",
       "    </tr>\n",
       "    <tr>\n",
       "      <th>1</th>\n",
       "      <td>ID</td>\n",
       "      <td>2</td>\n",
       "    </tr>\n",
       "    <tr>\n",
       "      <th>2</th>\n",
       "      <td>ID</td>\n",
       "      <td>3</td>\n",
       "    </tr>\n",
       "    <tr>\n",
       "      <th>3</th>\n",
       "      <td>ID</td>\n",
       "      <td>4</td>\n",
       "    </tr>\n",
       "    <tr>\n",
       "      <th>4</th>\n",
       "      <td>ID</td>\n",
       "      <td>5</td>\n",
       "    </tr>\n",
       "    <tr>\n",
       "      <th>...</th>\n",
       "      <td>...</td>\n",
       "      <td>...</td>\n",
       "    </tr>\n",
       "    <tr>\n",
       "      <th>749995</th>\n",
       "      <td>default payment next month</td>\n",
       "      <td>0</td>\n",
       "    </tr>\n",
       "    <tr>\n",
       "      <th>749996</th>\n",
       "      <td>default payment next month</td>\n",
       "      <td>0</td>\n",
       "    </tr>\n",
       "    <tr>\n",
       "      <th>749997</th>\n",
       "      <td>default payment next month</td>\n",
       "      <td>1</td>\n",
       "    </tr>\n",
       "    <tr>\n",
       "      <th>749998</th>\n",
       "      <td>default payment next month</td>\n",
       "      <td>1</td>\n",
       "    </tr>\n",
       "    <tr>\n",
       "      <th>749999</th>\n",
       "      <td>default payment next month</td>\n",
       "      <td>1</td>\n",
       "    </tr>\n",
       "  </tbody>\n",
       "</table>\n",
       "<p>750000 rows × 2 columns</p>\n",
       "</div>"
      ],
      "text/plain": [
       "                         이상치 탐색 변수  이상치 탐색 값\n",
       "0                               ID         1\n",
       "1                               ID         2\n",
       "2                               ID         3\n",
       "3                               ID         4\n",
       "4                               ID         5\n",
       "...                            ...       ...\n",
       "749995  default payment next month         0\n",
       "749996  default payment next month         0\n",
       "749997  default payment next month         1\n",
       "749998  default payment next month         1\n",
       "749999  default payment next month         1\n",
       "\n",
       "[750000 rows x 2 columns]"
      ]
     },
     "execution_count": 3,
     "metadata": {},
     "output_type": "execute_result"
    }
   ],
   "source": [
    "outlier = pd.melt(df, var_name = '이상치 탐색 변수', value_name = '이상치 탐색 값')\n",
    "outlier"
   ]
  },
  {
   "cell_type": "code",
   "execution_count": 4,
   "id": "7b6aefdb",
   "metadata": {},
   "outputs": [
    {
     "data": {
      "image/png": "[encoded data removed]",
      "text/plain": [
       "<Figure size 5000x2000 with 1 Axes>"
      ]
     },
     "metadata": {},
     "output_type": "display_data"
    }
   ],
   "source": [
    "import seaborn as sns\n",
    "import matplotlib.pyplot as plt\n",
    "%matplotlib inline\n",
    "from matplotlib import rc\n",
    "rc(\"font\", family = 'Malgun Gothic')\n",
    "plt.rcParams['axes.unicode_minus'] = False\n",
    "\n",
    "plt.figure(figsize = (50,20))\n",
    "sns.boxplot(x = '이상치 탐색 변수', y = '이상치 탐색 값', data = outlier)\n",
    "plt.xticks(range(25), df.columns)\n",
    "plt.show()"
   ]
  },
  {
   "cell_type": "markdown",
   "id": "d511947d",
   "metadata": {},
   "source": [
    "이상치를 탐색하기 위해서 수치형 변수들만 선택해서 boxplot으로 시각화하였다. 이상치의 값이 연속적으로 나타나면, 보통 의미있는 값일 확률이 높기 때문에 따로 제거하거나 대체하지 않고, BILL_AMT3, PAY_AMT2 변수처럼 눈에 띄는 이상치가 있을 경우에는 보통 제거하거나 대체하는 경우가 많다. 하지만, BILL_AMT3, PAY_AMT2는 '청구금액, 지불금액'을 의미하므로 이상치가 있을 확률이 낮다고 판단하여 그대로 둔다. 예를 들어, Age 변수가 999값이 있으면 제거하거나 대체하는 것이 옳다. 그리고 음수값이 확인되는 값들은 이전에 미리 지불한 금액에 대한 값일수 있기에 그대로 두는 것이 좋을 듯 하다."
   ]
  },
  {
   "cell_type": "code",
   "execution_count": 6,
   "id": "4fbde3d8",
   "metadata": {},
   "outputs": [
    {
     "data": {
      "text/plain": [
       "0    23364\n",
       "1     6636\n",
       "Name: default payment next month, dtype: int64"
      ]
     },
     "execution_count": 6,
     "metadata": {},
     "output_type": "execute_result"
    }
   ],
   "source": [
    "df['default payment next month'].value_counts()"
   ]
  },
  {
   "cell_type": "code",
   "execution_count": 7,
   "id": "ee6ee9e4",
   "metadata": {},
   "outputs": [
    {
     "name": "stdout",
     "output_type": "stream",
     "text": [
      "평균 채무 불이행률 :  22.12\n"
     ]
    }
   ],
   "source": [
    "print(\"평균 채무 불이행률 : \", (6636/(23364+6636)) * 100)"
   ]
  },
  {
   "cell_type": "code",
   "execution_count": 20,
   "id": "195c65e9",
   "metadata": {},
   "outputs": [
    {
     "data": {
      "text/html": [
       "<div>\n",
       "<style scoped>\n",
       "    .dataframe tbody tr th:only-of-type {\n",
       "        vertical-align: middle;\n",
       "    }\n",
       "\n",
       "    .dataframe tbody tr th {\n",
       "        vertical-align: top;\n",
       "    }\n",
       "\n",
       "    .dataframe thead th {\n",
       "        text-align: right;\n",
       "    }\n",
       "</style>\n",
       "<table border=\"1\" class=\"dataframe\">\n",
       "  <thead>\n",
       "    <tr style=\"text-align: right;\">\n",
       "      <th></th>\n",
       "      <th>SEX</th>\n",
       "      <th>EDUCATION</th>\n",
       "      <th>MARRIAGE</th>\n",
       "    </tr>\n",
       "  </thead>\n",
       "  <tbody>\n",
       "    <tr>\n",
       "      <th>0</th>\n",
       "      <td>2</td>\n",
       "      <td>2</td>\n",
       "      <td>1</td>\n",
       "    </tr>\n",
       "    <tr>\n",
       "      <th>1</th>\n",
       "      <td>2</td>\n",
       "      <td>2</td>\n",
       "      <td>2</td>\n",
       "    </tr>\n",
       "    <tr>\n",
       "      <th>2</th>\n",
       "      <td>2</td>\n",
       "      <td>2</td>\n",
       "      <td>2</td>\n",
       "    </tr>\n",
       "    <tr>\n",
       "      <th>3</th>\n",
       "      <td>2</td>\n",
       "      <td>2</td>\n",
       "      <td>1</td>\n",
       "    </tr>\n",
       "    <tr>\n",
       "      <th>4</th>\n",
       "      <td>1</td>\n",
       "      <td>2</td>\n",
       "      <td>1</td>\n",
       "    </tr>\n",
       "    <tr>\n",
       "      <th>...</th>\n",
       "      <td>...</td>\n",
       "      <td>...</td>\n",
       "      <td>...</td>\n",
       "    </tr>\n",
       "    <tr>\n",
       "      <th>29995</th>\n",
       "      <td>1</td>\n",
       "      <td>3</td>\n",
       "      <td>1</td>\n",
       "    </tr>\n",
       "    <tr>\n",
       "      <th>29996</th>\n",
       "      <td>1</td>\n",
       "      <td>3</td>\n",
       "      <td>2</td>\n",
       "    </tr>\n",
       "    <tr>\n",
       "      <th>29997</th>\n",
       "      <td>1</td>\n",
       "      <td>2</td>\n",
       "      <td>2</td>\n",
       "    </tr>\n",
       "    <tr>\n",
       "      <th>29998</th>\n",
       "      <td>1</td>\n",
       "      <td>3</td>\n",
       "      <td>1</td>\n",
       "    </tr>\n",
       "    <tr>\n",
       "      <th>29999</th>\n",
       "      <td>1</td>\n",
       "      <td>2</td>\n",
       "      <td>1</td>\n",
       "    </tr>\n",
       "  </tbody>\n",
       "</table>\n",
       "<p>30000 rows × 3 columns</p>\n",
       "</div>"
      ],
      "text/plain": [
       "       SEX  EDUCATION  MARRIAGE\n",
       "0        2          2         1\n",
       "1        2          2         2\n",
       "2        2          2         2\n",
       "3        2          2         1\n",
       "4        1          2         1\n",
       "...    ...        ...       ...\n",
       "29995    1          3         1\n",
       "29996    1          3         2\n",
       "29997    1          2         2\n",
       "29998    1          3         1\n",
       "29999    1          2         1\n",
       "\n",
       "[30000 rows x 3 columns]"
      ]
     },
     "execution_count": 20,
     "metadata": {},
     "output_type": "execute_result"
    }
   ],
   "source": [
    "df_c = df[['SEX', 'EDUCATION', 'MARRIAGE']]\n",
    "df_c"
   ]
  },
  {
   "cell_type": "markdown",
   "id": "ebf5b339",
   "metadata": {},
   "source": [
    "### 범주형(의미상) 변수 분포 - 고객 정보 확인"
   ]
  },
  {
   "cell_type": "code",
   "execution_count": 21,
   "id": "d2b8124a",
   "metadata": {},
   "outputs": [
    {
     "data": {
      "image/png": "[encoded data removed]",
      "text/plain": [
       "<Figure size 2500x300 with 1 Axes>"
      ]
     },
     "metadata": {},
     "output_type": "display_data"
    },
    {
     "data": {
      "image/png": "[encoded data removed]",
      "text/plain": [
       "<Figure size 2500x300 with 1 Axes>"
      ]
     },
     "metadata": {},
     "output_type": "display_data"
    },
    {
     "data": {
      "image/png": "[encoded data removed]",
      "text/plain": [
       "<Figure size 2500x300 with 1 Axes>"
      ]
     },
     "metadata": {},
     "output_type": "display_data"
    }
   ],
   "source": [
    "for i in df_c :\n",
    "    sns.catplot(x=i, kind=\"count\",palette=\"pastel\", edgecolor=\".6\",data=df);\n",
    "    plt.gcf().set_size_inches(25, 3);\n",
    "    plt.xticks(fontsize=16);"
   ]
  },
  {
   "cell_type": "markdown",
   "id": "48b55989",
   "metadata": {},
   "source": [
    "성별은 여성이 남성보다 고객이 더욱 많고, 교육수준은 대학교가 가장 많고, 결혼은 독신이 가장 많은것을 확인할 수 있다"
   ]
  },
  {
   "cell_type": "code",
   "execution_count": 22,
   "id": "1b95c040",
   "metadata": {},
   "outputs": [],
   "source": [
    "import numpy as np\n",
    "df['EDUCATION'] = np.where((df['EDUCATION']>=4) | (df['EDUCATION']==0) , 4, df['EDUCATION'])"
   ]
  },
  {
   "cell_type": "markdown",
   "id": "4a6f2357",
   "metadata": {},
   "source": [
    "교육 수준 0, 4, 5, 6은 데이터가 너무 적으므로 하나의 카테고리로 통합한다"
   ]
  },
  {
   "cell_type": "code",
   "execution_count": 23,
   "id": "44c2f4ce",
   "metadata": {},
   "outputs": [],
   "source": [
    "df['MARRIAGE'] = np.where((df['MARRIAGE']>=3) | (df['MARRIAGE']==0) , 3, df['MARRIAGE'])"
   ]
  },
  {
   "cell_type": "markdown",
   "id": "fe69c924",
   "metadata": {},
   "source": [
    "결혼 0, 3은 데이터가 너무 적으므로 하나의 카테고리로 통합한다"
   ]
  },
  {
   "cell_type": "code",
   "execution_count": 24,
   "id": "a3217350",
   "metadata": {},
   "outputs": [
    {
     "data": {
      "image/png": "[encoded data removed]",
      "text/plain": [
       "<Figure size 2500x300 with 1 Axes>"
      ]
     },
     "metadata": {},
     "output_type": "display_data"
    },
    {
     "data": {
      "image/png": "[encoded data removed]",
      "text/plain": [
       "<Figure size 2500x300 with 1 Axes>"
      ]
     },
     "metadata": {},
     "output_type": "display_data"
    },
    {
     "data": {
      "image/png": "[encoded data removed]",
      "text/plain": [
       "<Figure size 2500x300 with 1 Axes>"
      ]
     },
     "metadata": {},
     "output_type": "display_data"
    }
   ],
   "source": [
    "for i in df_c :\n",
    "    sns.catplot(x=i, kind=\"count\",palette=\"pastel\", edgecolor=\".6\",data=df);\n",
    "    plt.gcf().set_size_inches(25, 3);\n",
    "    plt.xticks(fontsize=16);"
   ]
  },
  {
   "cell_type": "markdown",
   "id": "369bac37",
   "metadata": {},
   "source": [
    "### 청구금액 대비 지불 수준 확인"
   ]
  },
  {
   "cell_type": "code",
   "execution_count": 25,
   "id": "f2740f13",
   "metadata": {},
   "outputs": [
    {
     "data": {
      "text/html": [
       "<div>\n",
       "<style scoped>\n",
       "    .dataframe tbody tr th:only-of-type {\n",
       "        vertical-align: middle;\n",
       "    }\n",
       "\n",
       "    .dataframe tbody tr th {\n",
       "        vertical-align: top;\n",
       "    }\n",
       "\n",
       "    .dataframe thead th {\n",
       "        text-align: right;\n",
       "    }\n",
       "</style>\n",
       "<table border=\"1\" class=\"dataframe\">\n",
       "  <thead>\n",
       "    <tr style=\"text-align: right;\">\n",
       "      <th></th>\n",
       "      <th>ID</th>\n",
       "      <th>BILL_AMT1</th>\n",
       "      <th>PAY_AMT1</th>\n",
       "      <th>BILL_AMT2</th>\n",
       "      <th>PAY_AMT2</th>\n",
       "      <th>BILL_AMT3</th>\n",
       "      <th>PAY_AMT3</th>\n",
       "      <th>BILL_AMT4</th>\n",
       "      <th>PAY_AMT4</th>\n",
       "      <th>BILL_AMT5</th>\n",
       "      <th>PAY_AMT5</th>\n",
       "      <th>BILL_AMT6</th>\n",
       "      <th>PAY_AMT6</th>\n",
       "    </tr>\n",
       "  </thead>\n",
       "  <tbody>\n",
       "    <tr>\n",
       "      <th>0</th>\n",
       "      <td>1</td>\n",
       "      <td>3913</td>\n",
       "      <td>0</td>\n",
       "      <td>3102</td>\n",
       "      <td>689</td>\n",
       "      <td>689</td>\n",
       "      <td>0</td>\n",
       "      <td>0</td>\n",
       "      <td>0</td>\n",
       "      <td>0</td>\n",
       "      <td>0</td>\n",
       "      <td>0</td>\n",
       "      <td>0</td>\n",
       "    </tr>\n",
       "    <tr>\n",
       "      <th>1</th>\n",
       "      <td>2</td>\n",
       "      <td>2682</td>\n",
       "      <td>0</td>\n",
       "      <td>1725</td>\n",
       "      <td>1000</td>\n",
       "      <td>2682</td>\n",
       "      <td>1000</td>\n",
       "      <td>3272</td>\n",
       "      <td>1000</td>\n",
       "      <td>3455</td>\n",
       "      <td>0</td>\n",
       "      <td>3261</td>\n",
       "      <td>2000</td>\n",
       "    </tr>\n",
       "    <tr>\n",
       "      <th>2</th>\n",
       "      <td>3</td>\n",
       "      <td>29239</td>\n",
       "      <td>1518</td>\n",
       "      <td>14027</td>\n",
       "      <td>1500</td>\n",
       "      <td>13559</td>\n",
       "      <td>1000</td>\n",
       "      <td>14331</td>\n",
       "      <td>1000</td>\n",
       "      <td>14948</td>\n",
       "      <td>1000</td>\n",
       "      <td>15549</td>\n",
       "      <td>5000</td>\n",
       "    </tr>\n",
       "    <tr>\n",
       "      <th>3</th>\n",
       "      <td>4</td>\n",
       "      <td>46990</td>\n",
       "      <td>2000</td>\n",
       "      <td>48233</td>\n",
       "      <td>2019</td>\n",
       "      <td>49291</td>\n",
       "      <td>1200</td>\n",
       "      <td>28314</td>\n",
       "      <td>1100</td>\n",
       "      <td>28959</td>\n",
       "      <td>1069</td>\n",
       "      <td>29547</td>\n",
       "      <td>1000</td>\n",
       "    </tr>\n",
       "    <tr>\n",
       "      <th>4</th>\n",
       "      <td>5</td>\n",
       "      <td>8617</td>\n",
       "      <td>2000</td>\n",
       "      <td>5670</td>\n",
       "      <td>36681</td>\n",
       "      <td>35835</td>\n",
       "      <td>10000</td>\n",
       "      <td>20940</td>\n",
       "      <td>9000</td>\n",
       "      <td>19146</td>\n",
       "      <td>689</td>\n",
       "      <td>19131</td>\n",
       "      <td>679</td>\n",
       "    </tr>\n",
       "    <tr>\n",
       "      <th>...</th>\n",
       "      <td>...</td>\n",
       "      <td>...</td>\n",
       "      <td>...</td>\n",
       "      <td>...</td>\n",
       "      <td>...</td>\n",
       "      <td>...</td>\n",
       "      <td>...</td>\n",
       "      <td>...</td>\n",
       "      <td>...</td>\n",
       "      <td>...</td>\n",
       "      <td>...</td>\n",
       "      <td>...</td>\n",
       "      <td>...</td>\n",
       "    </tr>\n",
       "    <tr>\n",
       "      <th>29995</th>\n",
       "      <td>29996</td>\n",
       "      <td>188948</td>\n",
       "      <td>8500</td>\n",
       "      <td>192815</td>\n",
       "      <td>20000</td>\n",
       "      <td>208365</td>\n",
       "      <td>5003</td>\n",
       "      <td>88004</td>\n",
       "      <td>3047</td>\n",
       "      <td>31237</td>\n",
       "      <td>5000</td>\n",
       "      <td>15980</td>\n",
       "      <td>1000</td>\n",
       "    </tr>\n",
       "    <tr>\n",
       "      <th>29996</th>\n",
       "      <td>29997</td>\n",
       "      <td>1683</td>\n",
       "      <td>1837</td>\n",
       "      <td>1828</td>\n",
       "      <td>3526</td>\n",
       "      <td>3502</td>\n",
       "      <td>8998</td>\n",
       "      <td>8979</td>\n",
       "      <td>129</td>\n",
       "      <td>5190</td>\n",
       "      <td>0</td>\n",
       "      <td>0</td>\n",
       "      <td>0</td>\n",
       "    </tr>\n",
       "    <tr>\n",
       "      <th>29997</th>\n",
       "      <td>29998</td>\n",
       "      <td>3565</td>\n",
       "      <td>0</td>\n",
       "      <td>3356</td>\n",
       "      <td>0</td>\n",
       "      <td>2758</td>\n",
       "      <td>22000</td>\n",
       "      <td>20878</td>\n",
       "      <td>4200</td>\n",
       "      <td>20582</td>\n",
       "      <td>2000</td>\n",
       "      <td>19357</td>\n",
       "      <td>3100</td>\n",
       "    </tr>\n",
       "    <tr>\n",
       "      <th>29998</th>\n",
       "      <td>29999</td>\n",
       "      <td>-1645</td>\n",
       "      <td>85900</td>\n",
       "      <td>78379</td>\n",
       "      <td>3409</td>\n",
       "      <td>76304</td>\n",
       "      <td>1178</td>\n",
       "      <td>52774</td>\n",
       "      <td>1926</td>\n",
       "      <td>11855</td>\n",
       "      <td>52964</td>\n",
       "      <td>48944</td>\n",
       "      <td>1804</td>\n",
       "    </tr>\n",
       "    <tr>\n",
       "      <th>29999</th>\n",
       "      <td>30000</td>\n",
       "      <td>47929</td>\n",
       "      <td>2078</td>\n",
       "      <td>48905</td>\n",
       "      <td>1800</td>\n",
       "      <td>49764</td>\n",
       "      <td>1430</td>\n",
       "      <td>36535</td>\n",
       "      <td>1000</td>\n",
       "      <td>32428</td>\n",
       "      <td>1000</td>\n",
       "      <td>15313</td>\n",
       "      <td>1000</td>\n",
       "    </tr>\n",
       "  </tbody>\n",
       "</table>\n",
       "<p>30000 rows × 13 columns</p>\n",
       "</div>"
      ],
      "text/plain": [
       "          ID  BILL_AMT1  PAY_AMT1  BILL_AMT2  PAY_AMT2  BILL_AMT3  PAY_AMT3  \\\n",
       "0          1       3913         0       3102       689        689         0   \n",
       "1          2       2682         0       1725      1000       2682      1000   \n",
       "2          3      29239      1518      14027      1500      13559      1000   \n",
       "3          4      46990      2000      48233      2019      49291      1200   \n",
       "4          5       8617      2000       5670     36681      35835     10000   \n",
       "...      ...        ...       ...        ...       ...        ...       ...   \n",
       "29995  29996     188948      8500     192815     20000     208365      5003   \n",
       "29996  29997       1683      1837       1828      3526       3502      8998   \n",
       "29997  29998       3565         0       3356         0       2758     22000   \n",
       "29998  29999      -1645     85900      78379      3409      76304      1178   \n",
       "29999  30000      47929      2078      48905      1800      49764      1430   \n",
       "\n",
       "       BILL_AMT4  PAY_AMT4  BILL_AMT5  PAY_AMT5  BILL_AMT6  PAY_AMT6  \n",
       "0              0         0          0         0          0         0  \n",
       "1           3272      1000       3455         0       3261      2000  \n",
       "2          14331      1000      14948      1000      15549      5000  \n",
       "3          28314      1100      28959      1069      29547      1000  \n",
       "4          20940      9000      19146       689      19131       679  \n",
       "...          ...       ...        ...       ...        ...       ...  \n",
       "29995      88004      3047      31237      5000      15980      1000  \n",
       "29996       8979       129       5190         0          0         0  \n",
       "29997      20878      4200      20582      2000      19357      3100  \n",
       "29998      52774      1926      11855     52964      48944      1804  \n",
       "29999      36535      1000      32428      1000      15313      1000  \n",
       "\n",
       "[30000 rows x 13 columns]"
      ]
     },
     "execution_count": 25,
     "metadata": {},
     "output_type": "execute_result"
    }
   ],
   "source": [
    "df[['ID', 'BILL_AMT1', 'PAY_AMT1', 'BILL_AMT2', 'PAY_AMT2', 'BILL_AMT3', 'PAY_AMT3', 'BILL_AMT4', 'PAY_AMT4', 'BILL_AMT5', 'PAY_AMT5', 'BILL_AMT6', 'PAY_AMT6']]"
   ]
  },
  {
   "cell_type": "markdown",
   "id": "936486df",
   "metadata": {},
   "source": [
    "청구(BILL) 대비 지불(PAY)이 낮다면 연체 확률이 높을 것이고, 청구 대비 지불이 높다면, 과거 연체비용까지 지불했을 가능성이 크다. 예를 들어, 9월 청구금액이 3913달러인데 9월 지불금액은 0달러로 지불을 하지 않았으므로 해당 고객은 연체 확률이 매우 높을 것이라고 예측할 수 있다"
   ]
  },
  {
   "cell_type": "code",
   "execution_count": 26,
   "id": "c76bf28b",
   "metadata": {},
   "outputs": [],
   "source": [
    "df['PAY/BILL'] = round(((df['PAY_AMT1'] + df['PAY_AMT2'] + df['PAY_AMT3'] + df['PAY_AMT4'] + df['PAY_AMT5'] + df['PAY_AMT6']) \n",
    "                  / (df['BILL_AMT1'] + df['BILL_AMT2'] + df['BILL_AMT3'] + df['BILL_AMT4'] + df['BILL_AMT5'] + df['BILL_AMT6'])) * 100, 1)"
   ]
  },
  {
   "cell_type": "markdown",
   "id": "1555a9a4",
   "metadata": {},
   "source": [
    "과거 6개월동안 총 청구 대비 지불 수준을 확인하기 위해 'PAY/BILL'이라는 새로운 컬럼을 생성한다"
   ]
  },
  {
   "cell_type": "code",
   "execution_count": 27,
   "id": "9f95838b",
   "metadata": {},
   "outputs": [
    {
     "data": {
      "text/plain": [
       "0         8.9\n",
       "1        29.3\n",
       "2        10.8\n",
       "3         3.6\n",
       "4        54.0\n",
       "         ... \n",
       "29995     5.9\n",
       "29996    68.4\n",
       "29997    44.4\n",
       "29998    55.2\n",
       "29999     3.6\n",
       "Name: PAY/BILL, Length: 30000, dtype: float64"
      ]
     },
     "execution_count": 27,
     "metadata": {},
     "output_type": "execute_result"
    }
   ],
   "source": [
    "df['PAY/BILL'] "
   ]
  },
  {
   "cell_type": "markdown",
   "id": "288200a7",
   "metadata": {},
   "source": [
    "3번 고객은 3.6%밖에 채무를 못갚았지만, 29996 고객은 68.4%로 상당한 채무를 갚은것을 확인할 수 있다"
   ]
  },
  {
   "cell_type": "code",
   "execution_count": 28,
   "id": "ed252599",
   "metadata": {},
   "outputs": [],
   "source": [
    "df['PAY/BILL'] = df['PAY/BILL'].replace([np.inf, -np.inf], 0)"
   ]
  },
  {
   "cell_type": "markdown",
   "id": "6e2be272",
   "metadata": {},
   "source": [
    "총 청구 대금이 0인 고객이 존재할 경우, inf로 표현되기 때문에 전처리를 통해 다시 0으로 나타내준다"
   ]
  },
  {
   "cell_type": "code",
   "execution_count": 29,
   "id": "38856303",
   "metadata": {},
   "outputs": [],
   "source": [
    "df['PAY/BILL'] = np.where(df['PAY/BILL']>100, 100, df['PAY/BILL'])\n",
    "df['PAY/BILL'] = np.where(df['PAY/BILL']<0, 0, df['PAY/BILL'])"
   ]
  },
  {
   "cell_type": "markdown",
   "id": "5c5095b7",
   "metadata": {},
   "source": [
    "음수값이나 확률이 100보다 넘어가는 경우가 없기 때문에 해당 값을 이상치로 판단하고 100보다 크면 100으로 대체하고 0보다 작으면 0으로 대체한다"
   ]
  },
  {
   "cell_type": "code",
   "execution_count": 30,
   "id": "0d9ae08c",
   "metadata": {},
   "outputs": [
    {
     "data": {
      "image/png": "[encoded data removed]",
      "text/plain": [
       "<Figure size 640x480 with 1 Axes>"
      ]
     },
     "metadata": {},
     "output_type": "display_data"
    }
   ],
   "source": [
    "sns.distplot(df['PAY/BILL']);"
   ]
  },
  {
   "cell_type": "markdown",
   "id": "c0336d01",
   "metadata": {},
   "source": [
    "대부분의 고객이 총 청구금액 대비 20% 수준에서만 지불을 하고 있는 것을 확인할 수 있다"
   ]
  },
  {
   "cell_type": "markdown",
   "id": "315a1610",
   "metadata": {},
   "source": [
    "## 고객 정보 기반 채무 불이행 고객 예측"
   ]
  },
  {
   "cell_type": "code",
   "execution_count": 32,
   "id": "416753b0",
   "metadata": {},
   "outputs": [
    {
     "data": {
      "text/html": [
       "<div>\n",
       "<style scoped>\n",
       "    .dataframe tbody tr th:only-of-type {\n",
       "        vertical-align: middle;\n",
       "    }\n",
       "\n",
       "    .dataframe tbody tr th {\n",
       "        vertical-align: top;\n",
       "    }\n",
       "\n",
       "    .dataframe thead th {\n",
       "        text-align: right;\n",
       "    }\n",
       "</style>\n",
       "<table border=\"1\" class=\"dataframe\">\n",
       "  <thead>\n",
       "    <tr style=\"text-align: right;\">\n",
       "      <th></th>\n",
       "      <th>SEX</th>\n",
       "      <th>0</th>\n",
       "      <th>1</th>\n",
       "      <th>ratio</th>\n",
       "    </tr>\n",
       "  </thead>\n",
       "  <tbody>\n",
       "    <tr>\n",
       "      <th>0</th>\n",
       "      <td>1</td>\n",
       "      <td>9015</td>\n",
       "      <td>2873</td>\n",
       "      <td>24.2</td>\n",
       "    </tr>\n",
       "    <tr>\n",
       "      <th>1</th>\n",
       "      <td>2</td>\n",
       "      <td>14349</td>\n",
       "      <td>3763</td>\n",
       "      <td>20.8</td>\n",
       "    </tr>\n",
       "  </tbody>\n",
       "</table>\n",
       "</div>"
      ],
      "text/plain": [
       "   SEX      0     1  ratio\n",
       "0    1   9015  2873   24.2\n",
       "1    2  14349  3763   20.8"
      ]
     },
     "execution_count": 32,
     "metadata": {},
     "output_type": "execute_result"
    }
   ],
   "source": [
    "df_profile=pd.DataFrame(df['default payment next month'].groupby(df['SEX']).value_counts())\n",
    "df_profile.columns=['cnt']\n",
    "df_profile=df_profile.reset_index()\n",
    "\n",
    "df_profile = pd.pivot_table(df_profile,                        \n",
    "                    index = 'SEX',                       \n",
    "                    columns = 'default payment next month',   \n",
    "                    values = 'cnt')                           \n",
    "\n",
    "df_profile = df_profile.reset_index()\n",
    "df_profile.columns.names=['']\n",
    "\n",
    "df_profile['ratio'] =   round((df_profile.iloc[:,2] / (df_profile.iloc[:,1] + df_profile.iloc[:,2])) * 100,1)\n",
    "df_profile=df_profile.sort_values(by=['ratio'], ascending=False)\n",
    "df_profile"
   ]
  },
  {
   "cell_type": "markdown",
   "id": "3ddf5613",
   "metadata": {},
   "source": [
    "여성보다 남성이 채무 불이행률이 높은 것을 확인할 수 있다"
   ]
  },
  {
   "cell_type": "code",
   "execution_count": 31,
   "id": "78d7e57d",
   "metadata": {},
   "outputs": [
    {
     "data": {
      "text/html": [
       "<div>\n",
       "<style scoped>\n",
       "    .dataframe tbody tr th:only-of-type {\n",
       "        vertical-align: middle;\n",
       "    }\n",
       "\n",
       "    .dataframe tbody tr th {\n",
       "        vertical-align: top;\n",
       "    }\n",
       "\n",
       "    .dataframe thead th {\n",
       "        text-align: right;\n",
       "    }\n",
       "</style>\n",
       "<table border=\"1\" class=\"dataframe\">\n",
       "  <thead>\n",
       "    <tr style=\"text-align: right;\">\n",
       "      <th></th>\n",
       "      <th>EDUCATION</th>\n",
       "      <th>0</th>\n",
       "      <th>1</th>\n",
       "      <th>ratio</th>\n",
       "    </tr>\n",
       "  </thead>\n",
       "  <tbody>\n",
       "    <tr>\n",
       "      <th>2</th>\n",
       "      <td>3</td>\n",
       "      <td>3680</td>\n",
       "      <td>1237</td>\n",
       "      <td>25.2</td>\n",
       "    </tr>\n",
       "    <tr>\n",
       "      <th>1</th>\n",
       "      <td>2</td>\n",
       "      <td>10700</td>\n",
       "      <td>3330</td>\n",
       "      <td>23.7</td>\n",
       "    </tr>\n",
       "    <tr>\n",
       "      <th>0</th>\n",
       "      <td>1</td>\n",
       "      <td>8549</td>\n",
       "      <td>2036</td>\n",
       "      <td>19.2</td>\n",
       "    </tr>\n",
       "    <tr>\n",
       "      <th>3</th>\n",
       "      <td>4</td>\n",
       "      <td>435</td>\n",
       "      <td>33</td>\n",
       "      <td>7.1</td>\n",
       "    </tr>\n",
       "  </tbody>\n",
       "</table>\n",
       "</div>"
      ],
      "text/plain": [
       "   EDUCATION      0     1  ratio\n",
       "2          3   3680  1237   25.2\n",
       "1          2  10700  3330   23.7\n",
       "0          1   8549  2036   19.2\n",
       "3          4    435    33    7.1"
      ]
     },
     "execution_count": 31,
     "metadata": {},
     "output_type": "execute_result"
    }
   ],
   "source": [
    "df_profile=pd.DataFrame(df['default payment next month'].groupby(df['EDUCATION']).value_counts())\n",
    "df_profile.columns=['cnt']\n",
    "df_profile=df_profile.reset_index()\n",
    "\n",
    "df_profile = pd.pivot_table(df_profile,                        \n",
    "                    index = 'EDUCATION',                       \n",
    "                    columns = 'default payment next month',   \n",
    "                    values = 'cnt')                           \n",
    "\n",
    "df_profile = df_profile.reset_index()\n",
    "df_profile.columns.names=['']\n",
    "\n",
    "df_profile['ratio'] =   round((df_profile.iloc[:,2] / (df_profile.iloc[:,1] + df_profile.iloc[:,2])) * 100,1)\n",
    "df_profile=df_profile.sort_values(by=['ratio'], ascending=False)\n",
    "df_profile"
   ]
  },
  {
   "cell_type": "markdown",
   "id": "6472d410",
   "metadata": {},
   "source": [
    "대학생이 채무 불이행률이 가장 높은 것을 확인할 수 있다"
   ]
  },
  {
   "cell_type": "code",
   "execution_count": 33,
   "id": "11603563",
   "metadata": {},
   "outputs": [
    {
     "data": {
      "text/html": [
       "<div>\n",
       "<style scoped>\n",
       "    .dataframe tbody tr th:only-of-type {\n",
       "        vertical-align: middle;\n",
       "    }\n",
       "\n",
       "    .dataframe tbody tr th {\n",
       "        vertical-align: top;\n",
       "    }\n",
       "\n",
       "    .dataframe thead th {\n",
       "        text-align: right;\n",
       "    }\n",
       "</style>\n",
       "<table border=\"1\" class=\"dataframe\">\n",
       "  <thead>\n",
       "    <tr style=\"text-align: right;\">\n",
       "      <th></th>\n",
       "      <th>MARRIAGE</th>\n",
       "      <th>0</th>\n",
       "      <th>1</th>\n",
       "      <th>ratio</th>\n",
       "    </tr>\n",
       "  </thead>\n",
       "  <tbody>\n",
       "    <tr>\n",
       "      <th>2</th>\n",
       "      <td>3</td>\n",
       "      <td>288</td>\n",
       "      <td>89</td>\n",
       "      <td>23.6</td>\n",
       "    </tr>\n",
       "    <tr>\n",
       "      <th>0</th>\n",
       "      <td>1</td>\n",
       "      <td>10453</td>\n",
       "      <td>3206</td>\n",
       "      <td>23.5</td>\n",
       "    </tr>\n",
       "    <tr>\n",
       "      <th>1</th>\n",
       "      <td>2</td>\n",
       "      <td>12623</td>\n",
       "      <td>3341</td>\n",
       "      <td>20.9</td>\n",
       "    </tr>\n",
       "  </tbody>\n",
       "</table>\n",
       "</div>"
      ],
      "text/plain": [
       "   MARRIAGE      0     1  ratio\n",
       "2         3    288    89   23.6\n",
       "0         1  10453  3206   23.5\n",
       "1         2  12623  3341   20.9"
      ]
     },
     "execution_count": 33,
     "metadata": {},
     "output_type": "execute_result"
    }
   ],
   "source": [
    "df_profile=pd.DataFrame(df['default payment next month'].groupby(df['MARRIAGE']).value_counts())\n",
    "df_profile.columns=['cnt']\n",
    "df_profile=df_profile.reset_index()\n",
    "\n",
    "df_profile = pd.pivot_table(df_profile,                        \n",
    "                    index = 'MARRIAGE',                       \n",
    "                    columns = 'default payment next month',   \n",
    "                    values = 'cnt')                           \n",
    "\n",
    "df_profile = df_profile.reset_index()\n",
    "df_profile.columns.names=['']\n",
    "\n",
    "df_profile['ratio'] =   round((df_profile.iloc[:,2] / (df_profile.iloc[:,1] + df_profile.iloc[:,2])) * 100,1)\n",
    "df_profile=df_profile.sort_values(by=['ratio'], ascending=False)\n",
    "df_profile"
   ]
  },
  {
   "cell_type": "markdown",
   "id": "d590df65",
   "metadata": {},
   "source": [
    "기혼이나 독신도 아닌 기타 고객이 채무 불이행률이 가장 높은 것을 확인할 수 있다"
   ]
  },
  {
   "cell_type": "markdown",
   "id": "c3ec0755",
   "metadata": {},
   "source": [
    "## 신용한도 기반 채무 불이행 고객 예측"
   ]
  },
  {
   "cell_type": "code",
   "execution_count": 35,
   "id": "b6aa181f",
   "metadata": {},
   "outputs": [
    {
     "data": {
      "image/png": "[encoded data removed]",
      "text/plain": [
       "<Figure size 640x480 with 1 Axes>"
      ]
     },
     "metadata": {},
     "output_type": "display_data"
    }
   ],
   "source": [
    "sns.distplot(df['LIMIT_BAL']);"
   ]
  },
  {
   "cell_type": "code",
   "execution_count": 36,
   "id": "531f034e",
   "metadata": {},
   "outputs": [
    {
     "data": {
      "text/plain": [
       "0         20000\n",
       "1        120000\n",
       "2         90000\n",
       "3         50000\n",
       "4         50000\n",
       "          ...  \n",
       "29995    220000\n",
       "29996    150000\n",
       "29997     30000\n",
       "29998     80000\n",
       "29999     50000\n",
       "Name: LIMIT_BAL, Length: 30000, dtype: int64"
      ]
     },
     "execution_count": 36,
     "metadata": {},
     "output_type": "execute_result"
    }
   ],
   "source": [
    "df['LIMIT_BAL']"
   ]
  },
  {
   "cell_type": "code",
   "execution_count": 37,
   "id": "4d74af5a",
   "metadata": {},
   "outputs": [
    {
     "data": {
      "text/html": [
       "<div>\n",
       "<style scoped>\n",
       "    .dataframe tbody tr th:only-of-type {\n",
       "        vertical-align: middle;\n",
       "    }\n",
       "\n",
       "    .dataframe tbody tr th {\n",
       "        vertical-align: top;\n",
       "    }\n",
       "\n",
       "    .dataframe thead th {\n",
       "        text-align: right;\n",
       "    }\n",
       "</style>\n",
       "<table border=\"1\" class=\"dataframe\">\n",
       "  <thead>\n",
       "    <tr style=\"text-align: right;\">\n",
       "      <th></th>\n",
       "      <th>ID</th>\n",
       "      <th>LIMIT_BAL</th>\n",
       "      <th>LIMIT_GP</th>\n",
       "    </tr>\n",
       "  </thead>\n",
       "  <tbody>\n",
       "    <tr>\n",
       "      <th>0</th>\n",
       "      <td>1</td>\n",
       "      <td>20000</td>\n",
       "      <td>1</td>\n",
       "    </tr>\n",
       "    <tr>\n",
       "      <th>1</th>\n",
       "      <td>2</td>\n",
       "      <td>120000</td>\n",
       "      <td>2</td>\n",
       "    </tr>\n",
       "    <tr>\n",
       "      <th>2</th>\n",
       "      <td>3</td>\n",
       "      <td>90000</td>\n",
       "      <td>1</td>\n",
       "    </tr>\n",
       "    <tr>\n",
       "      <th>3</th>\n",
       "      <td>4</td>\n",
       "      <td>50000</td>\n",
       "      <td>1</td>\n",
       "    </tr>\n",
       "    <tr>\n",
       "      <th>4</th>\n",
       "      <td>5</td>\n",
       "      <td>50000</td>\n",
       "      <td>1</td>\n",
       "    </tr>\n",
       "    <tr>\n",
       "      <th>...</th>\n",
       "      <td>...</td>\n",
       "      <td>...</td>\n",
       "      <td>...</td>\n",
       "    </tr>\n",
       "    <tr>\n",
       "      <th>29995</th>\n",
       "      <td>29996</td>\n",
       "      <td>220000</td>\n",
       "      <td>2</td>\n",
       "    </tr>\n",
       "    <tr>\n",
       "      <th>29996</th>\n",
       "      <td>29997</td>\n",
       "      <td>150000</td>\n",
       "      <td>2</td>\n",
       "    </tr>\n",
       "    <tr>\n",
       "      <th>29997</th>\n",
       "      <td>29998</td>\n",
       "      <td>30000</td>\n",
       "      <td>1</td>\n",
       "    </tr>\n",
       "    <tr>\n",
       "      <th>29998</th>\n",
       "      <td>29999</td>\n",
       "      <td>80000</td>\n",
       "      <td>1</td>\n",
       "    </tr>\n",
       "    <tr>\n",
       "      <th>29999</th>\n",
       "      <td>30000</td>\n",
       "      <td>50000</td>\n",
       "      <td>1</td>\n",
       "    </tr>\n",
       "  </tbody>\n",
       "</table>\n",
       "<p>30000 rows × 3 columns</p>\n",
       "</div>"
      ],
      "text/plain": [
       "          ID  LIMIT_BAL  LIMIT_GP\n",
       "0          1      20000         1\n",
       "1          2     120000         2\n",
       "2          3      90000         1\n",
       "3          4      50000         1\n",
       "4          5      50000         1\n",
       "...      ...        ...       ...\n",
       "29995  29996     220000         2\n",
       "29996  29997     150000         2\n",
       "29997  29998      30000         1\n",
       "29998  29999      80000         1\n",
       "29999  30000      50000         1\n",
       "\n",
       "[30000 rows x 3 columns]"
      ]
     },
     "execution_count": 37,
     "metadata": {},
     "output_type": "execute_result"
    }
   ],
   "source": [
    "df['LIMIT_GP'] = np.where (df['LIMIT_BAL'] <= 100000, 1, \n",
    "                           np.where(df['LIMIT_BAL'] <= 300000, 2,\n",
    "                           np.where(df['LIMIT_BAL'] <= 500000, 3, 4)))\n",
    "\n",
    "df[['ID', 'LIMIT_BAL', 'LIMIT_GP']]"
   ]
  },
  {
   "cell_type": "markdown",
   "id": "d6d83f89",
   "metadata": {},
   "source": [
    "연속형 변수의 구간화 작업이 필요하다\n",
    "\n",
    "100,000 이하 / 100,000 초과 300,000 이하 / 300,000 초과 500,000 이하 / 500,000 초과"
   ]
  },
  {
   "cell_type": "code",
   "execution_count": 38,
   "id": "e4c58c64",
   "metadata": {},
   "outputs": [
    {
     "data": {
      "text/plain": [
       "2    12939\n",
       "1    12498\n",
       "3     4357\n",
       "4      206\n",
       "Name: LIMIT_GP, dtype: int64"
      ]
     },
     "execution_count": 38,
     "metadata": {},
     "output_type": "execute_result"
    }
   ],
   "source": [
    "df['LIMIT_GP'].value_counts()"
   ]
  },
  {
   "cell_type": "code",
   "execution_count": 39,
   "id": "7a0dc95d",
   "metadata": {},
   "outputs": [
    {
     "data": {
      "text/html": [
       "<div>\n",
       "<style scoped>\n",
       "    .dataframe tbody tr th:only-of-type {\n",
       "        vertical-align: middle;\n",
       "    }\n",
       "\n",
       "    .dataframe tbody tr th {\n",
       "        vertical-align: top;\n",
       "    }\n",
       "\n",
       "    .dataframe thead th {\n",
       "        text-align: right;\n",
       "    }\n",
       "</style>\n",
       "<table border=\"1\" class=\"dataframe\">\n",
       "  <thead>\n",
       "    <tr style=\"text-align: right;\">\n",
       "      <th></th>\n",
       "      <th>LIMIT_GP</th>\n",
       "      <th>0</th>\n",
       "      <th>1</th>\n",
       "      <th>ratio</th>\n",
       "    </tr>\n",
       "  </thead>\n",
       "  <tbody>\n",
       "    <tr>\n",
       "      <th>0</th>\n",
       "      <td>1</td>\n",
       "      <td>8814</td>\n",
       "      <td>3684</td>\n",
       "      <td>29.5</td>\n",
       "    </tr>\n",
       "    <tr>\n",
       "      <th>1</th>\n",
       "      <td>2</td>\n",
       "      <td>10592</td>\n",
       "      <td>2347</td>\n",
       "      <td>18.1</td>\n",
       "    </tr>\n",
       "    <tr>\n",
       "      <th>2</th>\n",
       "      <td>3</td>\n",
       "      <td>3775</td>\n",
       "      <td>582</td>\n",
       "      <td>13.4</td>\n",
       "    </tr>\n",
       "    <tr>\n",
       "      <th>3</th>\n",
       "      <td>4</td>\n",
       "      <td>183</td>\n",
       "      <td>23</td>\n",
       "      <td>11.2</td>\n",
       "    </tr>\n",
       "  </tbody>\n",
       "</table>\n",
       "</div>"
      ],
      "text/plain": [
       "   LIMIT_GP      0     1  ratio\n",
       "0         1   8814  3684   29.5\n",
       "1         2  10592  2347   18.1\n",
       "2         3   3775   582   13.4\n",
       "3         4    183    23   11.2"
      ]
     },
     "execution_count": 39,
     "metadata": {},
     "output_type": "execute_result"
    }
   ],
   "source": [
    "df_profile=pd.DataFrame(df['default payment next month'].groupby(df['LIMIT_GP']).value_counts())\n",
    "df_profile.columns=['cnt']\n",
    "df_profile=df_profile.reset_index()\n",
    "\n",
    "df_profile = pd.pivot_table(df_profile,                        \n",
    "                    index = 'LIMIT_GP',                       \n",
    "                    columns = 'default payment next month',   \n",
    "                    values = 'cnt')                           \n",
    "\n",
    "df_profile = df_profile.reset_index()\n",
    "df_profile.columns.names=['']\n",
    "\n",
    "df_profile['ratio'] =   round((df_profile.iloc[:,2] / (df_profile.iloc[:,1] + df_profile.iloc[:,2])) * 100,1)\n",
    "df_profile=df_profile.sort_values(by=['ratio'], ascending=False)\n",
    "df_profile"
   ]
  },
  {
   "cell_type": "markdown",
   "id": "67e0f84f",
   "metadata": {},
   "source": [
    "신용한도가 높을수록 채무 불이행률이 점점 감소하는 것을 확인할 수 있다"
   ]
  },
  {
   "cell_type": "markdown",
   "id": "8f2f3a25",
   "metadata": {},
   "source": [
    "## ML 활용 채무 불이행 고객 예측"
   ]
  },
  {
   "cell_type": "code",
   "execution_count": 41,
   "id": "778a37bf",
   "metadata": {},
   "outputs": [
    {
     "name": "stdout",
     "output_type": "stream",
     "text": [
      "(21000, 23)\n",
      "(21000,)\n",
      "(9000, 23)\n",
      "(9000,)\n"
     ]
    }
   ],
   "source": [
    "from sklearn.model_selection import train_test_split\n",
    "from sklearn.ensemble import RandomForestClassifier\n",
    "from sklearn import metrics\n",
    "\n",
    "X=df.drop(['ID','default payment next month', 'PAY/BILL', 'LIMIT_GP'], axis=1)\n",
    "Y=df['default payment next month']\n",
    "\n",
    "x_train, x_test, y_train, y_test = train_test_split(X, Y, test_size=0.3, stratify=Y)\n",
    "\n",
    "print(x_train.shape)\n",
    "print(y_train.shape)\n",
    "\n",
    "print(x_test.shape)\n",
    "print(y_test.shape)"
   ]
  },
  {
   "cell_type": "markdown",
   "id": "29b3d96a",
   "metadata": {},
   "source": [
    "위에서 새로 생성한 파생변수들은 제거 후에 모델링을 진행한다"
   ]
  },
  {
   "cell_type": "code",
   "execution_count": 42,
   "id": "57f7ca21",
   "metadata": {},
   "outputs": [
    {
     "name": "stdout",
     "output_type": "stream",
     "text": [
      "              precision    recall  f1-score   support\n",
      "\n",
      "           0       1.00      1.00      1.00     16355\n",
      "           1       1.00      1.00      1.00      4645\n",
      "\n",
      "    accuracy                           1.00     21000\n",
      "   macro avg       1.00      1.00      1.00     21000\n",
      "weighted avg       1.00      1.00      1.00     21000\n",
      "\n",
      "              precision    recall  f1-score   support\n",
      "\n",
      "           0       0.84      0.95      0.89      7009\n",
      "           1       0.66      0.38      0.48      1991\n",
      "\n",
      "    accuracy                           0.82      9000\n",
      "   macro avg       0.75      0.66      0.69      9000\n",
      "weighted avg       0.80      0.82      0.80      9000\n",
      "\n"
     ]
    }
   ],
   "source": [
    "from sklearn.metrics import classification_report\n",
    "rfc = RandomForestClassifier(random_state=2023)\n",
    "rfc.fit(x_train, y_train)\n",
    "\n",
    "y_pred_train = rfc.predict(x_train)\n",
    "y_pred_test = rfc.predict(x_test)\n",
    "\n",
    "print(classification_report(y_train, y_pred_train))\n",
    "print(classification_report(y_test, y_pred_test))"
   ]
  },
  {
   "cell_type": "markdown",
   "id": "ccc239d4",
   "metadata": {},
   "source": [
    "1. precision  \n",
    "\n",
    "- 채무 불이행을 할 것 같은 고객들을 예측한 고객들 중에서 실제로 채무 불이행을 한 고객의 확률\n",
    "\n",
    "- 장점 : 최대한 많은 채무 불이행 고객들을 후보리스트로 만들어서 관리가 가능하며, 손실을 최대한 방지할 수 있다.\n",
    "\n",
    "- 단점 : 실제로 그렇지 않은 고객들이 포함될 수 있다.\n",
    "\n",
    "\n",
    "2. recall  \n",
    "\n",
    "- 실제로 채무 불이행을 한 고객들중에서 채무 불이행 예측을 맞춘 확률\n",
    "\n",
    "- 장점 : 실제로 채무 불이행을 할것같은 고객들만 관리할 수 있다.\n",
    "\n",
    "- 단점 : 채무 불이행 고객들이 적어서 모수가 작아지기 때문에 손실이 커질 우려가 있다.  \n",
    "\n",
    "3. 과적합\n",
    "\n",
    "- train과 test의 precision이 비슷하면 과적합이 발생하지 않은 것이고, 위와 같이 크게 차이가 나면 과적합이 발생한 것이라고 볼 수 있다.\n",
    "\n",
    "- 이러한 경우, 과적합을 방지하기 위해 Hyper parameter 튜닝을 통해 해결할 수 있다.  "
   ]
  },
  {
   "cell_type": "code",
   "execution_count": 43,
   "id": "67dd024e",
   "metadata": {},
   "outputs": [
    {
     "name": "stdout",
     "output_type": "stream",
     "text": [
      "roc_score_train : 0.9999964393359263\n",
      "roc_score_test : 0.7649648485956816\n"
     ]
    }
   ],
   "source": [
    "from sklearn.metrics import roc_auc_score\n",
    "\n",
    "y_pred_train_proba = rfc.predict_proba(x_train)[:, 1] \n",
    "y_pred_test_proba = rfc.predict_proba(x_test)[:, 1] \n",
    "\n",
    "roc_score_train = roc_auc_score(y_train, y_pred_train_proba)\n",
    "roc_score_test = roc_auc_score(y_test, y_pred_test_proba)\n",
    "\n",
    "print(\"roc_score_train :\", roc_score_train)\n",
    "print(\"roc_score_test :\", roc_score_test)"
   ]
  },
  {
   "cell_type": "markdown",
   "id": "421bc9c1",
   "metadata": {},
   "source": [
    "4. roc_auc_score\n",
    "\n",
    "- 이진 분류기의 성능을 평가할때 사용하는 지표로 100에 가까울 수록 모델 성능이 좋은 것이라고 할 수 있다.\n",
    "\n",
    "- 다양한 threshold에 대한 이진분류기의 성능을 한번에 표시한 것이다.\n",
    "\n",
    "- 여기서도 train과 test의 roc_score값이 크게 차이가 나는 것을 확인할 수 있으며, 과적합이 발생했다고 알 수 있다.  \n",
    "\n",
    "5. predict\n",
    "\n",
    "- 0과 1로 나누는 것(0.5 이하는 0, 초과는 1)\n",
    "\n",
    "6. predict_proba\n",
    "\n",
    "- 0일 확률과 1일 확률로 나누는 것\n",
    "\n",
    "- [:, 1]의 의미는 전체 고객을 불러오기 위해 행을 :, 채무 불이행 고객들의 확률만 추출하기 위해 2번째에 있는 열인 1을 불러온다는 의미이다.\n",
    "\n",
    "- 1번째에 있는 열은 채무를 이행한 고객들의 확률이다."
   ]
  },
  {
   "cell_type": "code",
   "execution_count": 44,
   "id": "fc422379",
   "metadata": {},
   "outputs": [
    {
     "name": "stdout",
     "output_type": "stream",
     "text": [
      "최적 하이퍼 파라미터:  {'max_depth': 6, 'n_estimators': 400}\n",
      "최고 예측 정확도: 0.6805\n"
     ]
    }
   ],
   "source": [
    "from sklearn.model_selection import GridSearchCV\n",
    "\n",
    "params = { 'n_estimators' : [400, 500],\n",
    "           'max_depth' : [6, 8, 10, 12]\n",
    "            }\n",
    "\n",
    "rf_clf = RandomForestClassifier(random_state = 2023, n_jobs = -1)\n",
    "grid_cv = GridSearchCV(rf_clf, param_grid = params, cv = 3, n_jobs = -1, scoring='precision')\n",
    "grid_cv.fit(x_train, y_train)\n",
    "\n",
    "print('최적 하이퍼 파라미터: ', grid_cv.best_params_)\n",
    "print('최고 예측 정확도: {:.4f}'.format(grid_cv.best_score_))"
   ]
  },
  {
   "cell_type": "markdown",
   "id": "b8e62a4f",
   "metadata": {},
   "source": [
    "위의 n_jobs가 -1이면 컴퓨터의 모든 코어를 사용한다는 의미이다  \n",
    "\n",
    "scoring을 precision으로 선택한 이유는 고객들의 수가 상당히 많기 때문에 최대한 손실을 방지하는 것이 더욱 좋을 것 같다는 판단이 들어서다"
   ]
  },
  {
   "cell_type": "code",
   "execution_count": 45,
   "id": "51549468",
   "metadata": {},
   "outputs": [
    {
     "name": "stdout",
     "output_type": "stream",
     "text": [
      "              precision    recall  f1-score   support\n",
      "\n",
      "           0       0.84      0.96      0.90     16355\n",
      "           1       0.72      0.34      0.46      4645\n",
      "\n",
      "    accuracy                           0.82     21000\n",
      "   macro avg       0.78      0.65      0.68     21000\n",
      "weighted avg       0.81      0.82      0.80     21000\n",
      "\n",
      "              precision    recall  f1-score   support\n",
      "\n",
      "           0       0.84      0.96      0.89      7009\n",
      "           1       0.70      0.34      0.46      1991\n",
      "\n",
      "    accuracy                           0.82      9000\n",
      "   macro avg       0.77      0.65      0.68      9000\n",
      "weighted avg       0.81      0.82      0.80      9000\n",
      "\n"
     ]
    }
   ],
   "source": [
    "rfc = RandomForestClassifier(n_estimators=400, max_depth=6, random_state = 2023)\n",
    "rfc.fit(x_train, y_train)\n",
    "\n",
    "y_pred_train = rfc.predict(x_train)\n",
    "y_pred_test = rfc.predict(x_test)\n",
    "\n",
    "print(classification_report(y_train, y_pred_train))\n",
    "print(classification_report(y_test, y_pred_test))"
   ]
  },
  {
   "cell_type": "markdown",
   "id": "54bd0ff1",
   "metadata": {},
   "source": [
    "최적의 하이퍼 파라미터를 통해 다시 랜덤포레스트를 학습시킨 결과, train의 precision이 0.72이고 test의 precision이 0.70으로 거의 정확하게 예측을 했다고 할 수 있다. 과적합이 해결되었고 성능이 좋은 모델이라고 할 수 있다"
   ]
  },
  {
   "cell_type": "code",
   "execution_count": 46,
   "id": "86492a18",
   "metadata": {},
   "outputs": [
    {
     "name": "stdout",
     "output_type": "stream",
     "text": [
      "roc_score_train : 0.7913563925273444\n",
      "roc_score_test : 0.7788354056372524\n"
     ]
    }
   ],
   "source": [
    "from sklearn.metrics import roc_auc_score\n",
    "\n",
    "y_pred_train_proba = rfc.predict_proba(x_train)[:, 1] \n",
    "y_pred_test_proba = rfc.predict_proba(x_test)[:, 1] \n",
    "\n",
    "\n",
    "roc_score_train = roc_auc_score(y_train, y_pred_train_proba)\n",
    "roc_score_test = roc_auc_score(y_test, y_pred_test_proba)\n",
    "\n",
    "print(\"roc_score_train :\", roc_score_train)\n",
    "print(\"roc_score_test :\", roc_score_test)"
   ]
  },
  {
   "cell_type": "markdown",
   "id": "d33ed1b2",
   "metadata": {},
   "source": [
    "여기서도 최적의 하이퍼 파라미터를 통해 train과 test의 roc_score값이 거의 비슷한 것을 보아 과적합이 해결되었다고 할 수 있다. 이전보다 성능도 더욱 좋아졌음을 확인할 수 있다"
   ]
  },
  {
   "cell_type": "code",
   "execution_count": 47,
   "id": "16efbc81",
   "metadata": {},
   "outputs": [
    {
     "data": {
      "image/png": "[encoded data removed]",
      "text/plain": [
       "<Figure size 800x600 with 1 Axes>"
      ]
     },
     "metadata": {},
     "output_type": "display_data"
    }
   ],
   "source": [
    "ftr_importances_values = rfc.feature_importances_\n",
    "ftr_importances = pd.Series(ftr_importances_values, index = x_train.columns)\n",
    "ftr_top20 = ftr_importances.sort_values(ascending=False)[:30]\n",
    "\n",
    "plt.figure(figsize=(8,6))\n",
    "plt.title('Feature Importances')\n",
    "sns.barplot(x=ftr_top20, y=ftr_top20.index)\n",
    "plt.rc('xtick', labelsize=5)\n",
    "plt.show()"
   ]
  },
  {
   "cell_type": "markdown",
   "id": "8bf2b4e1",
   "metadata": {},
   "source": [
    "Feature IMP 분석을 통해 중요변수를 파악한다. 위의 상위 변수들을 살펴보면, 직전 월의 상환상태가 현재 채무 불이행 고객을 예측하는데 가장 중요한 변수들임을 확인할 수 있다. 하지만, 고객 정보가 예측에 거의 영향을 주지 않는 것을 알 수 있으며 신용한도가 상당한 영향을 미치는 것을 알 수 있다. 따라서 신용한도와 상환상태를 주의 깊게 살펴가면서 예측을 진행하는 것이 좋은 판단이다  \n",
    "\n",
    "AGE, EDUCATION, MARRIAGE,SEX 변수같은 고객 정보들은 제거하고 다시 모델링 해보는 것도 좋다"
   ]
  },
  {
   "cell_type": "code",
   "execution_count": 2,
   "id": "f9b130ff",
   "metadata": {},
   "outputs": [
    {
     "data": {
      "image/png": "[encoded data removed]",
      "text/plain": [
       "<Figure size 640x480 with 1 Axes>"
      ]
     },
     "metadata": {},
     "output_type": "display_data"
    }
   ],
   "source": [
    "import seaborn as sns\n",
    "\n",
    "sns.distplot(df['PAY_0']);"
   ]
  },
  {
   "cell_type": "markdown",
   "id": "99d87edd",
   "metadata": {},
   "source": [
    "가장 중요한 변수에 대해 상세한 탐색을 실시한다. PAY_0(9월 상환상태)의 분포를 확인한다"
   ]
  },
  {
   "cell_type": "code",
   "execution_count": 3,
   "id": "9e83e13f",
   "metadata": {},
   "outputs": [
    {
     "data": {
      "text/html": [
       "<div>\n",
       "<style scoped>\n",
       "    .dataframe tbody tr th:only-of-type {\n",
       "        vertical-align: middle;\n",
       "    }\n",
       "\n",
       "    .dataframe tbody tr th {\n",
       "        vertical-align: top;\n",
       "    }\n",
       "\n",
       "    .dataframe thead th {\n",
       "        text-align: right;\n",
       "    }\n",
       "</style>\n",
       "<table border=\"1\" class=\"dataframe\">\n",
       "  <thead>\n",
       "    <tr style=\"text-align: right;\">\n",
       "      <th></th>\n",
       "      <th>PAY_0</th>\n",
       "      <th>PAY_0_gp</th>\n",
       "    </tr>\n",
       "  </thead>\n",
       "  <tbody>\n",
       "    <tr>\n",
       "      <th>0</th>\n",
       "      <td>2</td>\n",
       "      <td>3</td>\n",
       "    </tr>\n",
       "    <tr>\n",
       "      <th>1</th>\n",
       "      <td>-1</td>\n",
       "      <td>1</td>\n",
       "    </tr>\n",
       "    <tr>\n",
       "      <th>2</th>\n",
       "      <td>0</td>\n",
       "      <td>2</td>\n",
       "    </tr>\n",
       "    <tr>\n",
       "      <th>3</th>\n",
       "      <td>0</td>\n",
       "      <td>2</td>\n",
       "    </tr>\n",
       "    <tr>\n",
       "      <th>4</th>\n",
       "      <td>-1</td>\n",
       "      <td>1</td>\n",
       "    </tr>\n",
       "    <tr>\n",
       "      <th>...</th>\n",
       "      <td>...</td>\n",
       "      <td>...</td>\n",
       "    </tr>\n",
       "    <tr>\n",
       "      <th>29995</th>\n",
       "      <td>0</td>\n",
       "      <td>2</td>\n",
       "    </tr>\n",
       "    <tr>\n",
       "      <th>29996</th>\n",
       "      <td>-1</td>\n",
       "      <td>1</td>\n",
       "    </tr>\n",
       "    <tr>\n",
       "      <th>29997</th>\n",
       "      <td>4</td>\n",
       "      <td>3</td>\n",
       "    </tr>\n",
       "    <tr>\n",
       "      <th>29998</th>\n",
       "      <td>1</td>\n",
       "      <td>3</td>\n",
       "    </tr>\n",
       "    <tr>\n",
       "      <th>29999</th>\n",
       "      <td>0</td>\n",
       "      <td>2</td>\n",
       "    </tr>\n",
       "  </tbody>\n",
       "</table>\n",
       "<p>30000 rows × 2 columns</p>\n",
       "</div>"
      ],
      "text/plain": [
       "       PAY_0  PAY_0_gp\n",
       "0          2         3\n",
       "1         -1         1\n",
       "2          0         2\n",
       "3          0         2\n",
       "4         -1         1\n",
       "...      ...       ...\n",
       "29995      0         2\n",
       "29996     -1         1\n",
       "29997      4         3\n",
       "29998      1         3\n",
       "29999      0         2\n",
       "\n",
       "[30000 rows x 2 columns]"
      ]
     },
     "execution_count": 3,
     "metadata": {},
     "output_type": "execute_result"
    }
   ],
   "source": [
    "import numpy as np\n",
    "df['PAY_0_gp'] = np.where (df['PAY_0'] <= -1, 1, \n",
    "                           np.where(df['PAY_0'] == 0, 2, 3))\n",
    "\n",
    "df[['PAY_0','PAY_0_gp']]"
   ]
  },
  {
   "cell_type": "markdown",
   "id": "bdb49b2b",
   "metadata": {},
   "source": [
    "0을 기준으로 측정하고 3개의 구간으로 구간화를 진행한다"
   ]
  },
  {
   "cell_type": "code",
   "execution_count": 4,
   "id": "7085f7f7",
   "metadata": {},
   "outputs": [
    {
     "data": {
      "text/plain": [
       "PAY_0_gp  default payment next month\n",
       "1         0                              7126\n",
       "          1                              1319\n",
       "2         0                             12849\n",
       "          1                              1888\n",
       "3         0                              3389\n",
       "          1                              3429\n",
       "Name: PAY_0_gp, dtype: int64"
      ]
     },
     "execution_count": 4,
     "metadata": {},
     "output_type": "execute_result"
    }
   ],
   "source": [
    "df.groupby(['PAY_0_gp', 'default payment next month'])['PAY_0_gp'].count()"
   ]
  },
  {
   "cell_type": "code",
   "execution_count": 5,
   "id": "8d891f02",
   "metadata": {},
   "outputs": [
    {
     "name": "stdout",
     "output_type": "stream",
     "text": [
      "gp1 : 15.618709295441088\n",
      "gp2 : 12.811291307593134\n",
      "gp3 : 50.293341155764146\n"
     ]
    }
   ],
   "source": [
    "print(\"gp1 :\", (1319 / (7126+1319)) * 100)\n",
    "print(\"gp2 :\", (1888 / (12849+1888)) * 100)\n",
    "print(\"gp3 :\", (3429 / (3389+3429)) * 100)"
   ]
  },
  {
   "cell_type": "markdown",
   "id": "74b4e167",
   "metadata": {},
   "source": [
    "직전월인 9월 상환상태가 한달지연되는 시점부터 채무 불이행 확률이 급격히 상승하는 것을 확인할 수 있다. 가장 중요한 변수임을 알 수 있고, 매우 주의깊게 살펴봐야한다"
   ]
  },
  {
   "cell_type": "markdown",
   "id": "ab36f305",
   "metadata": {},
   "source": [
    "성과측정은 기본 베이스 코드(위의 전체 코드)를 가지고 익월 데이터를 추가 업로드해서 성과비교가 필요하다. 예를 들어, 위의 데이터로 예측한 채무 불이행 고객들을 블랙리스트로 관리 후에 채무 불이행 손실 감소율을 익월과 비교하는 것이다.\n",
    "\n",
    "ex) 채무 불이행 예측 고객 = gp3의 고객들(9월 상환상태가 한달지연 이상인 고객들)"
   ]
  }
 ],
 "metadata": {
  "kernelspec": {
   "display_name": "Python 3 (ipykernel)",
   "language": "python",
   "name": "python3"
  },
  "language_info": {
   "codemirror_mode": {
    "name": "ipython",
    "version": 3
   },
   "file_extension": ".py",
   "mimetype": "text/x-python",
   "name": "python",
   "nbconvert_exporter": "python",
   "pygments_lexer": "ipython3",
   "version": "3.7.13"
  }
 },
 "nbformat": 4,
 "nbformat_minor": 5
}
